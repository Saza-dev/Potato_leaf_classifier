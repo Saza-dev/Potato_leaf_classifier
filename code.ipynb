{
 "cells": [
  {
   "cell_type": "code",
   "execution_count": 1,
   "id": "dc3d93cb",
   "metadata": {},
   "outputs": [],
   "source": [
    "#libraries\n",
    "import tensorflow as tf\n",
    "from tensorflow.keras.preprocessing.image import ImageDataGenerator"
   ]
  },
  {
   "cell_type": "code",
   "execution_count": 2,
   "id": "4cea056f",
   "metadata": {},
   "outputs": [
    {
     "data": {
      "text/plain": [
       "'2.19.0'"
      ]
     },
     "execution_count": 2,
     "metadata": {},
     "output_type": "execute_result"
    }
   ],
   "source": [
    "tf.__version__"
   ]
  },
  {
   "cell_type": "code",
   "execution_count": null,
   "id": "435b724e",
   "metadata": {},
   "outputs": [
    {
     "name": "stdout",
     "output_type": "stream",
     "text": [
      "Found 1927 images belonging to 3 classes.\n"
     ]
    }
   ],
   "source": [
    "# Create an ImageDataGenerator object for training with data augmentation\n",
    "train_datagen = ImageDataGenerator(\n",
    "    rescale=1./255,              # Normalize pixel values from [0,255] to [0,1]\n",
    "    shear_range=0.2,             # Randomly apply shearing transformations (tilting)\n",
    "    zoom_range=0.3,              # Randomly zoom in on images up to 30%\n",
    "    rotation_range=20,          # Randomly rotate images within a range of ±20 degrees\n",
    "    width_shift_range=0.2,      # Shift images horizontally by up to 20% of the width\n",
    "    height_shift_range=0.2,     # Shift images vertically by up to 20% of the height\n",
    "    horizontal_flip=True,       # Randomly flip images horizontally\n",
    "    brightness_range=[0.8,1.2]  # Randomly adjust brightness between 80% and 120%\n",
    ")\n",
    "\n",
    "# Load and preprocess images from the 'training' directory\n",
    "training_set = train_datagen.flow_from_directory(\n",
    "    'training',                  # Path to the training image folder (should have subfolders per class)\n",
    "    target_size=(128, 128),      # Resize all images to 128x128 (match model input size)\n",
    "    batch_size=32,               # Load images in batches of 32\n",
    "    class_mode='categorical'     # Use one-hot encoded labels for multi-class classification\n",
    ")\n"
   ]
  },
  {
   "cell_type": "code",
   "execution_count": null,
   "id": "27010307",
   "metadata": {},
   "outputs": [
    {
     "name": "stdout",
     "output_type": "stream",
     "text": [
      "Found 225 images belonging to 3 classes.\n"
     ]
    }
   ],
   "source": [
    "# Create an ImageDataGenerator object for the test set (no augmentation, just rescaling)\n",
    "test_datagen = ImageDataGenerator(\n",
    "    rescale=1./255  # Normalize pixel values from [0,255] to [0,1]\n",
    ")\n",
    "\n",
    "# Load and preprocess images from the 'testing' directory\n",
    "test_set = test_datagen.flow_from_directory(\n",
    "    'testing',                  # Path to the test image folder (should have subfolders per class)\n",
    "    target_size=(128, 128),     # Resize all images to 128x128 to match model input\n",
    "    batch_size=32,              # Load images in batches of 32\n",
    "    class_mode='categorical'    # Use one-hot encoded labels for multi-class classification\n",
    ")\n"
   ]
  },
  {
   "cell_type": "code",
   "execution_count": null,
   "id": "729ce649",
   "metadata": {},
   "outputs": [],
   "source": [
    "cnn = tf.keras.models.Sequential() #This line creates a Sequential model in Keras, which is a linear stack of layers."
   ]
  },
  {
   "cell_type": "code",
   "execution_count": null,
   "id": "22df92b3",
   "metadata": {},
   "outputs": [
    {
     "name": "stderr",
     "output_type": "stream",
     "text": [
      "C:\\Users\\saza\\AppData\\Roaming\\Python\\Python312\\site-packages\\keras\\src\\layers\\convolutional\\base_conv.py:107: UserWarning: Do not pass an `input_shape`/`input_dim` argument to a layer. When using Sequential models, prefer using an `Input(shape)` object as the first layer in the model instead.\n",
      "  super().__init__(activity_regularizer=activity_regularizer, **kwargs)\n"
     ]
    }
   ],
   "source": [
    "# Add the first convolutional layer to the CNN\n",
    "cnn.add(tf.keras.layers.Conv2D(\n",
    "    filters=32,                   # Number of output filters (i.e., 32 feature detectors)\n",
    "    kernel_size=(3, 3),           # Size of the convolution window (3x3)\n",
    "    activation='relu',           # ReLU activation function introduces non-linearity\n",
    "    input_shape=[128, 128, 3]    # Shape of input images: 128x128 pixels, 3 color channels (RGB)\n",
    "))\n",
    "# Add a max pooling layer to reduce spatial dimensions and computation\n",
    "cnn.add(tf.keras.layers.MaxPool2D(\n",
    "    pool_size=(2, 2)              # Size of the pooling window (2x2)\n",
    "))\n"
   ]
  },
  {
   "cell_type": "code",
   "execution_count": null,
   "id": "0874bbf1",
   "metadata": {},
   "outputs": [],
   "source": [
    "cnn.add(tf.keras.layers.Conv2D(\n",
    "    filters=64,                  # Number of filters (increased to 64 for deeper feature detection)\n",
    "    kernel_size=(3, 3),          # Size of each filter (3x3 window)\n",
    "    activation='relu'            # ReLU activation introduces non-linearity\n",
    "))\n",
    "cnn.add(tf.keras.layers.MaxPool2D(\n",
    "    pool_size=(2, 2)             # Downsamples the feature maps again by a factor of 2\n",
    "))\n"
   ]
  },
  {
   "cell_type": "code",
   "execution_count": null,
   "id": "e1994f38",
   "metadata": {},
   "outputs": [],
   "source": [
    "# Add a third convolutional layer to learn even more complex features\n",
    "cnn.add(tf.keras.layers.Conv2D(\n",
    "    128,                    # Number of filters (feature detectors) = 128\n",
    "    (3, 3),                 # Size of each filter is 3x3\n",
    "    activation='relu'       # ReLU activation to add non-linearity\n",
    "))\n",
    "# Add a third max pooling layer to reduce spatial dimensions further\n",
    "cnn.add(tf.keras.layers.MaxPooling2D(\n",
    "    pool_size=(2, 2)        # Pooling window size is 2x2\n",
    "))\n"
   ]
  },
  {
   "cell_type": "code",
   "execution_count": null,
   "id": "175059ea",
   "metadata": {},
   "outputs": [],
   "source": [
    "# Flatten the 3D feature maps into a 1D feature vector\n",
    "cnn.add(tf.keras.layers.Flatten())\n"
   ]
  },
  {
   "cell_type": "code",
   "execution_count": null,
   "id": "55933b30",
   "metadata": {},
   "outputs": [],
   "source": [
    "# Add a fully connected (dense) layer with 128 neurons and ReLU activation\n",
    "cnn.add(tf.keras.layers.Dense(\n",
    "    units=128,            # Number of neurons in this dense layer\n",
    "    activation='relu'     # ReLU activation function to introduce non-linearity\n",
    "))\n"
   ]
  },
  {
   "cell_type": "code",
   "execution_count": null,
   "id": "ae5c15ae",
   "metadata": {},
   "outputs": [],
   "source": [
    "# Add a dropout layer to reduce overfitting\n",
    "cnn.add(tf.keras.layers.Dropout(0.5))  # 50% of the neurons will be randomly turned off during training\n"
   ]
  },
  {
   "cell_type": "code",
   "execution_count": null,
   "id": "d078494d",
   "metadata": {},
   "outputs": [],
   "source": [
    "# Add the output layer with 3 neurons (one for each class) and softmax activation\n",
    "cnn.add(tf.keras.layers.Dense(\n",
    "    units=3,               # Number of output classes (Early blight, Late blight, Healthy)\n",
    "    activation='softmax'   # Softmax converts outputs to probabilities that sum to 1\n",
    "))\n"
   ]
  },
  {
   "cell_type": "code",
   "execution_count": null,
   "id": "39e4a585",
   "metadata": {},
   "outputs": [],
   "source": [
    "# Compile the CNN model with optimizer, loss function, and evaluation metric\n",
    "cnn.compile(\n",
    "    optimizer='adam',                      # Adam optimizer adjusts learning rate during training\n",
    "    loss='categorical_crossentropy',       # Suitable loss function for multi-class classification with one-hot encoded labels\n",
    "    metrics=['accuracy']                   # Track accuracy during training and validation\n",
    ")\n"
   ]
  },
  {
   "cell_type": "code",
   "execution_count": null,
   "id": "8e38a5ce",
   "metadata": {},
   "outputs": [],
   "source": [
    "from tensorflow.keras.callbacks import EarlyStopping\n",
    "\n",
    "# Define an EarlyStopping callback to prevent overfitting\n",
    "early_stop = EarlyStopping(\n",
    "    monitor='val_loss',           # Monitors the validation loss during training\n",
    "    patience=5,                   # If val_loss doesn't improve for 5 consecutive epochs, stop training\n",
    "    restore_best_weights=True     # After stopping, restore the model weights from the epoch with the best val_loss\n",
    ")\n"
   ]
  },
  {
   "cell_type": "code",
   "execution_count": null,
   "id": "3546c619",
   "metadata": {},
   "outputs": [
    {
     "name": "stderr",
     "output_type": "stream",
     "text": [
      "C:\\Users\\saza\\AppData\\Roaming\\Python\\Python312\\site-packages\\keras\\src\\trainers\\data_adapters\\py_dataset_adapter.py:121: UserWarning: Your `PyDataset` class should call `super().__init__(**kwargs)` in its constructor. `**kwargs` can include `workers`, `use_multiprocessing`, `max_queue_size`. Do not pass these arguments to `fit()`, as they will be ignored.\n",
      "  self._warn_if_super_not_called()\n"
     ]
    },
    {
     "name": "stdout",
     "output_type": "stream",
     "text": [
      "Epoch 1/25\n",
      "\u001b[1m61/61\u001b[0m \u001b[32m━━━━━━━━━━━━━━━━━━━━\u001b[0m\u001b[37m\u001b[0m \u001b[1m20s\u001b[0m 294ms/step - accuracy: 0.4715 - loss: 0.9458 - val_accuracy: 0.7067 - val_loss: 0.8246\n",
      "Epoch 2/25\n",
      "\u001b[1m61/61\u001b[0m \u001b[32m━━━━━━━━━━━━━━━━━━━━\u001b[0m\u001b[37m\u001b[0m \u001b[1m17s\u001b[0m 275ms/step - accuracy: 0.7061 - loss: 0.6855 - val_accuracy: 0.6533 - val_loss: 0.9234\n",
      "Epoch 3/25\n",
      "\u001b[1m61/61\u001b[0m \u001b[32m━━━━━━━━━━━━━━━━━━━━\u001b[0m\u001b[37m\u001b[0m \u001b[1m17s\u001b[0m 275ms/step - accuracy: 0.8371 - loss: 0.4182 - val_accuracy: 0.8178 - val_loss: 0.4737\n",
      "Epoch 4/25\n",
      "\u001b[1m61/61\u001b[0m \u001b[32m━━━━━━━━━━━━━━━━━━━━\u001b[0m\u001b[37m\u001b[0m \u001b[1m17s\u001b[0m 280ms/step - accuracy: 0.8615 - loss: 0.3668 - val_accuracy: 0.7378 - val_loss: 0.8756\n",
      "Epoch 5/25\n",
      "\u001b[1m61/61\u001b[0m \u001b[32m━━━━━━━━━━━━━━━━━━━━\u001b[0m\u001b[37m\u001b[0m \u001b[1m17s\u001b[0m 283ms/step - accuracy: 0.8977 - loss: 0.2626 - val_accuracy: 0.8444 - val_loss: 0.3958\n",
      "Epoch 6/25\n",
      "\u001b[1m61/61\u001b[0m \u001b[32m━━━━━━━━━━━━━━━━━━━━\u001b[0m\u001b[37m\u001b[0m \u001b[1m18s\u001b[0m 291ms/step - accuracy: 0.9128 - loss: 0.2333 - val_accuracy: 0.8089 - val_loss: 0.4887\n",
      "Epoch 7/25\n",
      "\u001b[1m61/61\u001b[0m \u001b[32m━━━━━━━━━━━━━━━━━━━━\u001b[0m\u001b[37m\u001b[0m \u001b[1m17s\u001b[0m 282ms/step - accuracy: 0.9003 - loss: 0.2713 - val_accuracy: 0.9067 - val_loss: 0.2289\n",
      "Epoch 8/25\n",
      "\u001b[1m61/61\u001b[0m \u001b[32m━━━━━━━━━━━━━━━━━━━━\u001b[0m\u001b[37m\u001b[0m \u001b[1m17s\u001b[0m 280ms/step - accuracy: 0.9315 - loss: 0.1835 - val_accuracy: 0.9067 - val_loss: 0.2379\n",
      "Epoch 9/25\n",
      "\u001b[1m61/61\u001b[0m \u001b[32m━━━━━━━━━━━━━━━━━━━━\u001b[0m\u001b[37m\u001b[0m \u001b[1m17s\u001b[0m 282ms/step - accuracy: 0.9267 - loss: 0.1927 - val_accuracy: 0.9733 - val_loss: 0.0945\n",
      "Epoch 10/25\n",
      "\u001b[1m61/61\u001b[0m \u001b[32m━━━━━━━━━━━━━━━━━━━━\u001b[0m\u001b[37m\u001b[0m \u001b[1m17s\u001b[0m 279ms/step - accuracy: 0.9253 - loss: 0.1981 - val_accuracy: 0.8356 - val_loss: 0.3781\n",
      "Epoch 11/25\n",
      "\u001b[1m61/61\u001b[0m \u001b[32m━━━━━━━━━━━━━━━━━━━━\u001b[0m\u001b[37m\u001b[0m \u001b[1m18s\u001b[0m 290ms/step - accuracy: 0.9145 - loss: 0.2121 - val_accuracy: 0.8844 - val_loss: 0.3803\n",
      "Epoch 12/25\n",
      "\u001b[1m61/61\u001b[0m \u001b[32m━━━━━━━━━━━━━━━━━━━━\u001b[0m\u001b[37m\u001b[0m \u001b[1m17s\u001b[0m 284ms/step - accuracy: 0.9278 - loss: 0.1848 - val_accuracy: 0.9822 - val_loss: 0.0767\n",
      "Epoch 13/25\n",
      "\u001b[1m61/61\u001b[0m \u001b[32m━━━━━━━━━━━━━━━━━━━━\u001b[0m\u001b[37m\u001b[0m \u001b[1m17s\u001b[0m 285ms/step - accuracy: 0.9292 - loss: 0.1735 - val_accuracy: 0.9378 - val_loss: 0.1469\n",
      "Epoch 14/25\n",
      "\u001b[1m61/61\u001b[0m \u001b[32m━━━━━━━━━━━━━━━━━━━━\u001b[0m\u001b[37m\u001b[0m \u001b[1m19s\u001b[0m 303ms/step - accuracy: 0.9417 - loss: 0.1412 - val_accuracy: 0.8533 - val_loss: 0.3713\n",
      "Epoch 15/25\n",
      "\u001b[1m61/61\u001b[0m \u001b[32m━━━━━━━━━━━━━━━━━━━━\u001b[0m\u001b[37m\u001b[0m \u001b[1m18s\u001b[0m 297ms/step - accuracy: 0.9580 - loss: 0.1119 - val_accuracy: 0.9556 - val_loss: 0.1179\n",
      "Epoch 16/25\n",
      "\u001b[1m61/61\u001b[0m \u001b[32m━━━━━━━━━━━━━━━━━━━━\u001b[0m\u001b[37m\u001b[0m \u001b[1m18s\u001b[0m 287ms/step - accuracy: 0.9585 - loss: 0.1266 - val_accuracy: 0.9200 - val_loss: 0.2375\n",
      "Epoch 17/25\n",
      "\u001b[1m61/61\u001b[0m \u001b[32m━━━━━━━━━━━━━━━━━━━━\u001b[0m\u001b[37m\u001b[0m \u001b[1m18s\u001b[0m 292ms/step - accuracy: 0.9443 - loss: 0.1446 - val_accuracy: 0.9289 - val_loss: 0.1867\n"
     ]
    },
    {
     "data": {
      "text/plain": [
       "<keras.src.callbacks.history.History at 0x24372cdaf90>"
      ]
     },
     "execution_count": 15,
     "metadata": {},
     "output_type": "execute_result"
    }
   ],
   "source": [
    "# Train the CNN model on the training data with validation and early stopping\n",
    "cnn.fit(\n",
    "    training_set,             # The training dataset with augmentation\n",
    "    validation_data=test_set, # The validation dataset (used to monitor generalization)\n",
    "    epochs=25,                # Train for up to 25 epochs (EarlyStopping may stop it earlier)\n",
    "    callbacks=[early_stop]    # Apply early stopping to prevent overfitting\n",
    ")\n"
   ]
  },
  {
   "cell_type": "code",
   "execution_count": null,
   "id": "d0dfe762",
   "metadata": {},
   "outputs": [
    {
     "name": "stdout",
     "output_type": "stream",
     "text": [
      "\u001b[1m1/1\u001b[0m \u001b[32m━━━━━━━━━━━━━━━━━━━━\u001b[0m\u001b[37m\u001b[0m \u001b[1m0s\u001b[0m 71ms/step\n"
     ]
    },
    {
     "name": "stdout",
     "output_type": "stream",
     "text": [
      "Class indices: {'Potato___Early_blight': 0, 'Potato___Late_blight': 1, 'Potato___healthy': 2}\n",
      "Raw prediction: [[9.9486536e-01 5.1347064e-03 1.7583311e-12]]\n",
      "Predicted class: 0\n"
     ]
    }
   ],
   "source": [
    "import numpy as np\n",
    "from tensorflow.keras.preprocessing import image\n",
    "\n",
    "# Path to the image you want to predict\n",
    "path = 'testing/Potato_Early_blight/0a8a68ee-f587-4dea-beec-79d02e7d3fa4___RS_Early.B 8461.JPG'\n",
    "\n",
    "# Load the image and resize it to match the model's input size\n",
    "test_image = image.load_img(path, target_size=(128,128))\n",
    "\n",
    "# Convert the image to a NumPy array\n",
    "test_image = image.img_to_array(test_image)\n",
    "\n",
    "# Normalize the pixel values to range [0, 1] — same as during training\n",
    "test_image = test_image / 255.0\n",
    "\n",
    "# Expand dimensions to simulate a batch of 1 image (required by the model)\n",
    "test_image = np.expand_dims(test_image, axis=0)\n",
    "\n",
    "# Make the prediction\n",
    "result = cnn.predict(test_image)\n",
    "\n",
    "# Print class index mapping (e.g., {'Potato___Early_blight': 0, ...})\n",
    "print(\"Class indices:\", training_set.class_indices)\n",
    "\n",
    "# Print the raw prediction vector (probabilities for each class)\n",
    "print(\"Raw prediction:\", result)\n",
    "\n",
    "# Print the final predicted class index (e.g., 0, 1, or 2)\n",
    "print(\"Predicted class:\", np.argmax(result))\n"
   ]
  },
  {
   "cell_type": "code",
   "execution_count": null,
   "id": "ef520ca4",
   "metadata": {},
   "outputs": [
    {
     "name": "stdout",
     "output_type": "stream",
     "text": [
      "\u001b[1m1/1\u001b[0m \u001b[32m━━━━━━━━━━━━━━━━━━━━\u001b[0m\u001b[37m\u001b[0m \u001b[1m0s\u001b[0m 44ms/step"
     ]
    },
    {
     "name": "stdout",
     "output_type": "stream",
     "text": [
      "\u001b[1m1/1\u001b[0m \u001b[32m━━━━━━━━━━━━━━━━━━━━\u001b[0m\u001b[37m\u001b[0m \u001b[1m0s\u001b[0m 77ms/step\n",
      "Class indices: {'Potato___Early_blight': 0, 'Potato___Late_blight': 1, 'Potato___healthy': 2}\n",
      "Raw prediction: [[0.0104459  0.9824254  0.00712869]]\n",
      "Predicted class: 1\n"
     ]
    }
   ],
   "source": [
    "import numpy as np\n",
    "from tensorflow.keras.preprocessing import image\n",
    "\n",
    "path = 'testing/Potato___Late_blight/0acdc2b2-0dde-4073-8542-6fca275ab974___RS_LB 4857.JPG'\n",
    "\n",
    "# Load and preprocess the image\n",
    "test_image = image.load_img(path, target_size=(128,128))  # Resize to match training size\n",
    "test_image = image.img_to_array(test_image)                # Convert to array\n",
    "test_image = test_image / 255.0                            # Normalize pixel values\n",
    "test_image = np.expand_dims(test_image, axis=0)            # Add batch dimension\n",
    "\n",
    "# Get prediction\n",
    "result = cnn.predict(test_image)\n",
    "\n",
    "# Output results\n",
    "print(\"Class indices:\", training_set.class_indices)        # Class mapping\n",
    "print(\"Raw prediction:\", result)                           # Softmax probabilities\n",
    "print(\"Predicted class:\", np.argmax(result))               # Final predicted class index\n"
   ]
  },
  {
   "cell_type": "code",
   "execution_count": null,
   "id": "3d830845",
   "metadata": {},
   "outputs": [
    {
     "name": "stdout",
     "output_type": "stream",
     "text": [
      "\u001b[1m1/1\u001b[0m \u001b[32m━━━━━━━━━━━━━━━━━━━━\u001b[0m\u001b[37m\u001b[0m \u001b[1m0s\u001b[0m 66ms/step\n",
      "Class indices: {'Potato___Early_blight': 0, 'Potato___Late_blight': 1, 'Potato___healthy': 2}\n",
      "Raw prediction: [[3.5220297e-04 2.2415960e-02 9.7723186e-01]]\n",
      "Predicted class: 2\n"
     ]
    }
   ],
   "source": [
    "import numpy as np\n",
    "from tensorflow.keras.preprocessing import image\n",
    "\n",
    "# Define the path to the test image you want to classify\n",
    "path = 'testing/Potato_healthy/0be9d721-82f5-42c3-b535-7494afe01dbe___RS_HL 1814.JPG'\n",
    "\n",
    "# Load the image from the path and resize it to 128x128 pixels (same as model input)\n",
    "test_image = image.load_img(path, target_size=(128,128))\n",
    "\n",
    "# Convert the loaded image to a NumPy array (shape: 128x128x3)\n",
    "test_image = image.img_to_array(test_image)\n",
    "\n",
    "# Normalize pixel values from [0,255] to [0,1] (same preprocessing as training)\n",
    "test_image = test_image / 255.0\n",
    "\n",
    "# Add an extra dimension to represent batch size = 1 (model expects shape: [batch, height, width, channels])\n",
    "test_image = np.expand_dims(test_image, axis=0)\n",
    "\n",
    "# Make prediction using the trained model\n",
    "result = cnn.predict(test_image)\n",
    "\n",
    "# Print the mapping of class labels to their corresponding indices\n",
    "print(\"Class indices:\", training_set.class_indices)\n",
    "\n",
    "# Print the raw output of the softmax layer (probabilities for each class)\n",
    "print(\"Raw prediction:\", result)\n",
    "\n",
    "# Print the index of the class with the highest predicted probability\n",
    "print(\"Predicted class:\", np.argmax(result))\n"
   ]
  },
  {
   "cell_type": "code",
   "execution_count": null,
   "id": "2a5074f0",
   "metadata": {},
   "outputs": [
    {
     "name": "stderr",
     "output_type": "stream",
     "text": [
      "WARNING:absl:You are saving your model as an HDF5 file via `model.save()` or `keras.saving.save_model(model)`. This file format is considered legacy. We recommend using instead the native Keras format, e.g. `model.save('my_model.keras')` or `keras.saving.save_model(model, 'my_model.keras')`. \n"
     ]
    }
   ],
   "source": [
    "# Save the trained CNN model to a file named 'potato_leaf_classifier.h5'\n",
    "cnn.save('potato_leaf_classifier.h5')\n"
   ]
  },
  {
   "cell_type": "code",
   "execution_count": null,
   "id": "9650dae9",
   "metadata": {},
   "outputs": [
    {
     "name": "stderr",
     "output_type": "stream",
     "text": [
      "WARNING:absl:Compiled the loaded model, but the compiled metrics have yet to be built. `model.compile_metrics` will be empty until you train or evaluate the model.\n"
     ]
    }
   ],
   "source": [
    "from tensorflow.keras.models import load_model\n",
    "\n",
    "# Load the previously saved CNN model from the .h5 file\n",
    "model = load_model('potato_leaf_classifier.h5')\n"
   ]
  },
  {
   "cell_type": "code",
   "execution_count": 30,
   "id": "be9247f8",
   "metadata": {},
   "outputs": [
    {
     "name": "stdout",
     "output_type": "stream",
     "text": [
      "\u001b[1m1/1\u001b[0m \u001b[32m━━━━━━━━━━━━━━━━━━━━\u001b[0m\u001b[37m\u001b[0m \u001b[1m0s\u001b[0m 59ms/step\n",
      "Predicted class: Potato___Late_blight ([[0.0104459  0.9824254  0.00712869]])\n"
     ]
    }
   ],
   "source": [
    "from tensorflow.keras.preprocessing import image\n",
    "import numpy as np\n",
    "\n",
    "# Define the path to the test image\n",
    "img_path = 'testing/Potato___Late_blight/0acdc2b2-0dde-4073-8542-6fca275ab974___RS_LB 4857.JPG'\n",
    "\n",
    "# Load the image and resize it to the input size expected by the model (128x128 pixels)\n",
    "img = image.load_img(img_path, target_size=(128, 128))\n",
    "\n",
    "# Convert the image to a NumPy array (shape: 128x128x3)\n",
    "img_array = image.img_to_array(img)\n",
    "\n",
    "# Normalize pixel values to the [0, 1] range (same preprocessing as during training)\n",
    "img_array = img_array / 255.0\n",
    "\n",
    "# Expand dimensions to create a batch of 1 (model expects shape: [batch, height, width, channels])\n",
    "img_array = np.expand_dims(img_array, axis=0)\n",
    "\n",
    "# Use the loaded model to predict the class probabilities for the input image\n",
    "result = model.predict(img_array)\n",
    "\n",
    "# Get the index of the class with the highest probability\n",
    "predicted_class_index = np.argmax(result)\n",
    "\n",
    "# Define the list of class names in the same order as during training\n",
    "class_names = ['Potato___Early_blight', 'Potato___Late_blight', 'Potato___healthy']\n",
    "\n",
    "# Print the predicted class name and the full probability distribution\n",
    "print(f\"Predicted class: {class_names[predicted_class_index]} ({result})\")\n"
   ]
  },
  {
   "cell_type": "code",
   "execution_count": null,
   "id": "250d22f0",
   "metadata": {},
   "outputs": [],
   "source": []
  }
 ],
 "metadata": {
  "kernelspec": {
   "display_name": "Python 3",
   "language": "python",
   "name": "python3"
  },
  "language_info": {
   "codemirror_mode": {
    "name": "ipython",
    "version": 3
   },
   "file_extension": ".py",
   "mimetype": "text/x-python",
   "name": "python",
   "nbconvert_exporter": "python",
   "pygments_lexer": "ipython3",
   "version": "3.12.3"
  }
 },
 "nbformat": 4,
 "nbformat_minor": 5
}
